{
 "cells": [
  {
   "cell_type": "markdown",
   "metadata": {},
   "source": [
    "# **This notebook will be mainly used for the capstone project**"
   ]
  },
  {
   "cell_type": "markdown",
   "metadata": {},
   "source": [
    "## Importing packages"
   ]
  },
  {
   "cell_type": "code",
   "execution_count": 1,
   "metadata": {},
   "outputs": [
    {
     "name": "stdout",
     "output_type": "stream",
     "text": [
      "Hello Capstone Project Course!\n"
     ]
    }
   ],
   "source": [
    "import pandas as pd\n",
    "import numpy as np\n",
    "print('Hello Capstone Project Course!')"
   ]
  },
  {
   "cell_type": "code",
   "execution_count": 2,
   "metadata": {},
   "outputs": [],
   "source": [
    "from matplotlib import pyplot as plt\n",
    "import datetime\n",
    "from scipy import stats\n",
    "from warnings import filterwarnings\n",
    "filterwarnings('ignore')"
   ]
  },
  {
   "cell_type": "markdown",
   "metadata": {},
   "source": [
    "## Reading and cleaning of data"
   ]
  },
  {
   "cell_type": "code",
   "execution_count": 3,
   "metadata": {},
   "outputs": [],
   "source": [
    "data = pd.read_csv('Data-Collisions.csv')\n",
    "data.drop(columns = ['SEVERITYCODE.1'], inplace=True)"
   ]
  },
  {
   "cell_type": "code",
   "execution_count": 4,
   "metadata": {},
   "outputs": [],
   "source": [
    "data.SEVERITYCODE = data.SEVERITYCODE.astype(str)"
   ]
  },
  {
   "cell_type": "code",
   "execution_count": 5,
   "metadata": {},
   "outputs": [],
   "source": [
    "data = data[['SEVERITYCODE', 'ADDRTYPE', 'COLLISIONTYPE', 'PERSONCOUNT', 'PEDCOUNT', 'PEDCYLCOUNT', 'VEHCOUNT', 'INCDTTM', 'JUNCTIONTYPE', 'SDOT_COLCODE', 'UNDERINFL', 'WEATHER', 'ROADCOND']]\n",
    "data.dropna(inplace=True)\n",
    "data = data[data.SDOT_COLCODE != 0]\n",
    "data = data[data.JUNCTIONTYPE != 'Unknown']\n",
    "data = data[data.WEATHER != 'Unknown']\n",
    "data = data[data.ROADCOND != 'Unknown']"
   ]
  },
  {
   "cell_type": "code",
   "execution_count": 6,
   "metadata": {},
   "outputs": [
    {
     "data": {
      "text/plain": [
       "(145886, 14)"
      ]
     },
     "execution_count": 6,
     "metadata": {},
     "output_type": "execute_result"
    }
   ],
   "source": [
    "data['has_time_info'] = data.INCDTTM.apply(lambda x: 'No' if len(x) <=12 else 'Yes')\n",
    "data = data[data.has_time_info == 'Yes']\n",
    "data.shape"
   ]
  },
  {
   "cell_type": "code",
   "execution_count": 7,
   "metadata": {},
   "outputs": [],
   "source": [
    "data.UNDERINFL = data.UNDERINFL.apply(lambda x: 0 if x == 'N' else 1 if x == 'Y' else x)\n",
    "data.UNDERINFL = data.UNDERINFL.astype(str)"
   ]
  },
  {
   "cell_type": "markdown",
   "metadata": {},
   "source": [
    "## A little feature engineering"
   ]
  },
  {
   "cell_type": "markdown",
   "metadata": {},
   "source": [
    "### Here we categorize the time of accident into 4 time buckets, which seems like a sensible thing to do"
   ]
  },
  {
   "cell_type": "code",
   "execution_count": 8,
   "metadata": {},
   "outputs": [],
   "source": [
    "from datetime import datetime\n",
    "data.INCDTTM = data.INCDTTM.apply(lambda x: datetime.strptime(x, '%m/%d/%Y %I:%M:%S %p'))\n",
    "data['hourofday'] = data.INCDTTM.apply(lambda x: x.hour)"
   ]
  },
  {
   "cell_type": "code",
   "execution_count": 9,
   "metadata": {},
   "outputs": [],
   "source": [
    "data['PERIOD'] = data.hourofday.apply(lambda x: 'midnight to 6am' if x < 6 else '6am to 12noon' if x < 12 else '12noon to 6pm' if x < 18 else '6pm to midnight')"
   ]
  },
  {
   "cell_type": "markdown",
   "metadata": {},
   "source": [
    "### Here we categorize the collision codes into 3 classes differentiated by the striking vehicle, which looks to be exactly how the collision codes were derived, according to the metadata online\n",
    "#### ie. if a pedalcycle struck into the side of a car, then this accident's class would be 'Pedalcycle'"
   ]
  },
  {
   "cell_type": "code",
   "execution_count": 10,
   "metadata": {
    "scrolled": true
   },
   "outputs": [],
   "source": [
    "data['STRIKER'] = data.SDOT_COLCODE.apply(lambda x: 'Driven vehicle' if x < 30 else 'Driverless vehicle' if x < 50 else 'Pedalcyclist')"
   ]
  },
  {
   "cell_type": "markdown",
   "metadata": {},
   "source": [
    "## Quick univariate statistical testing of correlation/association of features with SEVERITYCODE"
   ]
  },
  {
   "cell_type": "code",
   "execution_count": 11,
   "metadata": {},
   "outputs": [],
   "source": [
    "Features = data[['ADDRTYPE', 'COLLISIONTYPE', 'PERSONCOUNT', 'PEDCOUNT', 'PEDCYLCOUNT', 'VEHCOUNT', 'PERIOD', 'JUNCTIONTYPE', 'STRIKER', 'UNDERINFL', 'WEATHER', 'ROADCOND']]"
   ]
  },
  {
   "cell_type": "code",
   "execution_count": 12,
   "metadata": {
    "scrolled": true
   },
   "outputs": [
    {
     "data": {
      "text/html": [
       "<div>\n",
       "<style scoped>\n",
       "    .dataframe tbody tr th:only-of-type {\n",
       "        vertical-align: middle;\n",
       "    }\n",
       "\n",
       "    .dataframe tbody tr th {\n",
       "        vertical-align: top;\n",
       "    }\n",
       "\n",
       "    .dataframe thead th {\n",
       "        text-align: right;\n",
       "    }\n",
       "</style>\n",
       "<table border=\"1\" class=\"dataframe\">\n",
       "  <thead>\n",
       "    <tr style=\"text-align: right;\">\n",
       "      <th></th>\n",
       "      <th>Variable</th>\n",
       "      <th>DataType</th>\n",
       "      <th>StatisticalTest</th>\n",
       "      <th>Pvalue</th>\n",
       "    </tr>\n",
       "  </thead>\n",
       "  <tbody>\n",
       "    <tr>\n",
       "      <th>0</th>\n",
       "      <td>ADDRTYPE</td>\n",
       "      <td>object</td>\n",
       "      <td>Chi-squared test of indepence</td>\n",
       "      <td>0.0</td>\n",
       "    </tr>\n",
       "    <tr>\n",
       "      <th>1</th>\n",
       "      <td>COLLISIONTYPE</td>\n",
       "      <td>object</td>\n",
       "      <td>Chi-squared test of indepence</td>\n",
       "      <td>0.0</td>\n",
       "    </tr>\n",
       "    <tr>\n",
       "      <th>2</th>\n",
       "      <td>PERSONCOUNT</td>\n",
       "      <td>int64</td>\n",
       "      <td>Wilcoxon rank sum test</td>\n",
       "      <td>0.0</td>\n",
       "    </tr>\n",
       "    <tr>\n",
       "      <th>3</th>\n",
       "      <td>PEDCOUNT</td>\n",
       "      <td>int64</td>\n",
       "      <td>Wilcoxon rank sum test</td>\n",
       "      <td>0.0</td>\n",
       "    </tr>\n",
       "    <tr>\n",
       "      <th>4</th>\n",
       "      <td>PEDCYLCOUNT</td>\n",
       "      <td>int64</td>\n",
       "      <td>Wilcoxon rank sum test</td>\n",
       "      <td>0.0</td>\n",
       "    </tr>\n",
       "    <tr>\n",
       "      <th>5</th>\n",
       "      <td>VEHCOUNT</td>\n",
       "      <td>int64</td>\n",
       "      <td>Wilcoxon rank sum test</td>\n",
       "      <td>0.0</td>\n",
       "    </tr>\n",
       "    <tr>\n",
       "      <th>6</th>\n",
       "      <td>PERIOD</td>\n",
       "      <td>object</td>\n",
       "      <td>Chi-squared test of indepence</td>\n",
       "      <td>0.0</td>\n",
       "    </tr>\n",
       "    <tr>\n",
       "      <th>7</th>\n",
       "      <td>JUNCTIONTYPE</td>\n",
       "      <td>object</td>\n",
       "      <td>Chi-squared test of indepence</td>\n",
       "      <td>0.0</td>\n",
       "    </tr>\n",
       "    <tr>\n",
       "      <th>8</th>\n",
       "      <td>STRIKER</td>\n",
       "      <td>object</td>\n",
       "      <td>Chi-squared test of indepence</td>\n",
       "      <td>0.0</td>\n",
       "    </tr>\n",
       "    <tr>\n",
       "      <th>9</th>\n",
       "      <td>UNDERINFL</td>\n",
       "      <td>object</td>\n",
       "      <td>Chi-squared test of indepence</td>\n",
       "      <td>0.0</td>\n",
       "    </tr>\n",
       "    <tr>\n",
       "      <th>10</th>\n",
       "      <td>WEATHER</td>\n",
       "      <td>object</td>\n",
       "      <td>Chi-squared test of indepence</td>\n",
       "      <td>0.0</td>\n",
       "    </tr>\n",
       "    <tr>\n",
       "      <th>11</th>\n",
       "      <td>ROADCOND</td>\n",
       "      <td>object</td>\n",
       "      <td>Chi-squared test of indepence</td>\n",
       "      <td>0.0</td>\n",
       "    </tr>\n",
       "  </tbody>\n",
       "</table>\n",
       "</div>"
      ],
      "text/plain": [
       "         Variable DataType                StatisticalTest  Pvalue\n",
       "0        ADDRTYPE   object  Chi-squared test of indepence     0.0\n",
       "1   COLLISIONTYPE   object  Chi-squared test of indepence     0.0\n",
       "2     PERSONCOUNT    int64         Wilcoxon rank sum test     0.0\n",
       "3        PEDCOUNT    int64         Wilcoxon rank sum test     0.0\n",
       "4     PEDCYLCOUNT    int64         Wilcoxon rank sum test     0.0\n",
       "5        VEHCOUNT    int64         Wilcoxon rank sum test     0.0\n",
       "6          PERIOD   object  Chi-squared test of indepence     0.0\n",
       "7    JUNCTIONTYPE   object  Chi-squared test of indepence     0.0\n",
       "8         STRIKER   object  Chi-squared test of indepence     0.0\n",
       "9       UNDERINFL   object  Chi-squared test of indepence     0.0\n",
       "10        WEATHER   object  Chi-squared test of indepence     0.0\n",
       "11       ROADCOND   object  Chi-squared test of indepence     0.0"
      ]
     },
     "execution_count": 12,
     "metadata": {},
     "output_type": "execute_result"
    }
   ],
   "source": [
    "feature_testing_df = pd.DataFrame({'Variable': Features.columns, 'DataType': Features.dtypes.to_list()})\n",
    "feature_testing_df['StatisticalTest'] = feature_testing_df.DataType.apply(lambda x: 'Chi-squared test of independence' if x == 'object' else 'Wilcoxon rank sum test')\n",
    "feature_testing_df['Pvalue'] = 0.0\n",
    "feature_testing_df"
   ]
  },
  {
   "cell_type": "code",
   "execution_count": 13,
   "metadata": {
    "scrolled": true
   },
   "outputs": [
    {
     "data": {
      "text/html": [
       "<div>\n",
       "<style scoped>\n",
       "    .dataframe tbody tr th:only-of-type {\n",
       "        vertical-align: middle;\n",
       "    }\n",
       "\n",
       "    .dataframe tbody tr th {\n",
       "        vertical-align: top;\n",
       "    }\n",
       "\n",
       "    .dataframe thead th {\n",
       "        text-align: right;\n",
       "    }\n",
       "</style>\n",
       "<table border=\"1\" class=\"dataframe\">\n",
       "  <thead>\n",
       "    <tr style=\"text-align: right;\">\n",
       "      <th></th>\n",
       "      <th>Variable</th>\n",
       "      <th>DataType</th>\n",
       "      <th>StatisticalTest</th>\n",
       "      <th>Pvalue</th>\n",
       "    </tr>\n",
       "  </thead>\n",
       "  <tbody>\n",
       "    <tr>\n",
       "      <th>0</th>\n",
       "      <td>ADDRTYPE</td>\n",
       "      <td>object</td>\n",
       "      <td>Chi-squared test of indepence</td>\n",
       "      <td>0.000000e+00</td>\n",
       "    </tr>\n",
       "    <tr>\n",
       "      <th>1</th>\n",
       "      <td>COLLISIONTYPE</td>\n",
       "      <td>object</td>\n",
       "      <td>Chi-squared test of indepence</td>\n",
       "      <td>0.000000e+00</td>\n",
       "    </tr>\n",
       "    <tr>\n",
       "      <th>2</th>\n",
       "      <td>PERSONCOUNT</td>\n",
       "      <td>int64</td>\n",
       "      <td>Wilcoxon rank sum test</td>\n",
       "      <td>0.000000e+00</td>\n",
       "    </tr>\n",
       "    <tr>\n",
       "      <th>3</th>\n",
       "      <td>PEDCOUNT</td>\n",
       "      <td>int64</td>\n",
       "      <td>Wilcoxon rank sum test</td>\n",
       "      <td>1.001245e-223</td>\n",
       "    </tr>\n",
       "    <tr>\n",
       "      <th>4</th>\n",
       "      <td>PEDCYLCOUNT</td>\n",
       "      <td>int64</td>\n",
       "      <td>Wilcoxon rank sum test</td>\n",
       "      <td>2.768094e-137</td>\n",
       "    </tr>\n",
       "    <tr>\n",
       "      <th>5</th>\n",
       "      <td>VEHCOUNT</td>\n",
       "      <td>int64</td>\n",
       "      <td>Wilcoxon rank sum test</td>\n",
       "      <td>3.339624e-232</td>\n",
       "    </tr>\n",
       "    <tr>\n",
       "      <th>6</th>\n",
       "      <td>PERIOD</td>\n",
       "      <td>object</td>\n",
       "      <td>Chi-squared test of indepence</td>\n",
       "      <td>7.601647e-71</td>\n",
       "    </tr>\n",
       "    <tr>\n",
       "      <th>7</th>\n",
       "      <td>JUNCTIONTYPE</td>\n",
       "      <td>object</td>\n",
       "      <td>Chi-squared test of indepence</td>\n",
       "      <td>0.000000e+00</td>\n",
       "    </tr>\n",
       "    <tr>\n",
       "      <th>8</th>\n",
       "      <td>STRIKER</td>\n",
       "      <td>object</td>\n",
       "      <td>Chi-squared test of indepence</td>\n",
       "      <td>0.000000e+00</td>\n",
       "    </tr>\n",
       "    <tr>\n",
       "      <th>9</th>\n",
       "      <td>UNDERINFL</td>\n",
       "      <td>object</td>\n",
       "      <td>Chi-squared test of indepence</td>\n",
       "      <td>8.299194e-31</td>\n",
       "    </tr>\n",
       "    <tr>\n",
       "      <th>10</th>\n",
       "      <td>WEATHER</td>\n",
       "      <td>object</td>\n",
       "      <td>Chi-squared test of indepence</td>\n",
       "      <td>5.247313e-15</td>\n",
       "    </tr>\n",
       "    <tr>\n",
       "      <th>11</th>\n",
       "      <td>ROADCOND</td>\n",
       "      <td>object</td>\n",
       "      <td>Chi-squared test of indepence</td>\n",
       "      <td>3.240807e-25</td>\n",
       "    </tr>\n",
       "  </tbody>\n",
       "</table>\n",
       "</div>"
      ],
      "text/plain": [
       "         Variable DataType                StatisticalTest         Pvalue\n",
       "0        ADDRTYPE   object  Chi-squared test of indepence   0.000000e+00\n",
       "1   COLLISIONTYPE   object  Chi-squared test of indepence   0.000000e+00\n",
       "2     PERSONCOUNT    int64         Wilcoxon rank sum test   0.000000e+00\n",
       "3        PEDCOUNT    int64         Wilcoxon rank sum test  1.001245e-223\n",
       "4     PEDCYLCOUNT    int64         Wilcoxon rank sum test  2.768094e-137\n",
       "5        VEHCOUNT    int64         Wilcoxon rank sum test  3.339624e-232\n",
       "6          PERIOD   object  Chi-squared test of indepence   7.601647e-71\n",
       "7    JUNCTIONTYPE   object  Chi-squared test of indepence   0.000000e+00\n",
       "8         STRIKER   object  Chi-squared test of indepence   0.000000e+00\n",
       "9       UNDERINFL   object  Chi-squared test of indepence   8.299194e-31\n",
       "10        WEATHER   object  Chi-squared test of indepence   5.247313e-15\n",
       "11       ROADCOND   object  Chi-squared test of indepence   3.240807e-25"
      ]
     },
     "execution_count": 13,
     "metadata": {},
     "output_type": "execute_result"
    }
   ],
   "source": [
    "for index, datatype in enumerate(feature_testing_df.DataType):\n",
    "    variable = feature_testing_df.Variable[index]\n",
    "    if datatype == 'object':\n",
    "        contingency = pd.crosstab(data.SEVERITYCODE, data[variable])\n",
    "        feature_testing_df.Pvalue[index] = stats.chi2_contingency(contingency)[1]\n",
    "    else:\n",
    "        feature_testing_df.Pvalue[index] = stats.ranksums(data[variable][data.SEVERITYCODE=='1'], data[variable][data.SEVERITYCODE=='2'])[1]\n",
    "feature_testing_df"
   ]
  },
  {
   "cell_type": "markdown",
   "metadata": {},
   "source": [
    "## Preprocessing and dummy coding for categorical features"
   ]
  },
  {
   "cell_type": "code",
   "execution_count": 14,
   "metadata": {
    "scrolled": false
   },
   "outputs": [
    {
     "data": {
      "text/html": [
       "<div>\n",
       "<style scoped>\n",
       "    .dataframe tbody tr th:only-of-type {\n",
       "        vertical-align: middle;\n",
       "    }\n",
       "\n",
       "    .dataframe tbody tr th {\n",
       "        vertical-align: top;\n",
       "    }\n",
       "\n",
       "    .dataframe thead th {\n",
       "        text-align: right;\n",
       "    }\n",
       "</style>\n",
       "<table border=\"1\" class=\"dataframe\">\n",
       "  <thead>\n",
       "    <tr style=\"text-align: right;\">\n",
       "      <th></th>\n",
       "      <th>PERSONCOUNT</th>\n",
       "      <th>PEDCOUNT</th>\n",
       "      <th>PEDCYLCOUNT</th>\n",
       "      <th>VEHCOUNT</th>\n",
       "      <th>ADDRTYPE_Alley</th>\n",
       "      <th>ADDRTYPE_Intersection</th>\n",
       "      <th>COLLISIONTYPE_Cycles</th>\n",
       "      <th>COLLISIONTYPE_Head On</th>\n",
       "      <th>COLLISIONTYPE_Left Turn</th>\n",
       "      <th>COLLISIONTYPE_Other</th>\n",
       "      <th>...</th>\n",
       "      <th>WEATHER_Sleet/Hail/Freezing Rain</th>\n",
       "      <th>WEATHER_Snowing</th>\n",
       "      <th>ROADCOND_Ice</th>\n",
       "      <th>ROADCOND_Oil</th>\n",
       "      <th>ROADCOND_Other</th>\n",
       "      <th>ROADCOND_Sand/Mud/Dirt</th>\n",
       "      <th>ROADCOND_Snow/Slush</th>\n",
       "      <th>ROADCOND_Standing Water</th>\n",
       "      <th>ROADCOND_Wet</th>\n",
       "      <th>UNDERINFL</th>\n",
       "    </tr>\n",
       "  </thead>\n",
       "  <tbody>\n",
       "    <tr>\n",
       "      <th>0</th>\n",
       "      <td>2</td>\n",
       "      <td>0</td>\n",
       "      <td>0</td>\n",
       "      <td>2</td>\n",
       "      <td>0</td>\n",
       "      <td>1</td>\n",
       "      <td>0</td>\n",
       "      <td>0</td>\n",
       "      <td>0</td>\n",
       "      <td>0</td>\n",
       "      <td>...</td>\n",
       "      <td>0</td>\n",
       "      <td>0</td>\n",
       "      <td>0</td>\n",
       "      <td>0</td>\n",
       "      <td>0</td>\n",
       "      <td>0</td>\n",
       "      <td>0</td>\n",
       "      <td>0</td>\n",
       "      <td>1</td>\n",
       "      <td>0</td>\n",
       "    </tr>\n",
       "    <tr>\n",
       "      <th>1</th>\n",
       "      <td>2</td>\n",
       "      <td>0</td>\n",
       "      <td>0</td>\n",
       "      <td>2</td>\n",
       "      <td>0</td>\n",
       "      <td>0</td>\n",
       "      <td>0</td>\n",
       "      <td>0</td>\n",
       "      <td>0</td>\n",
       "      <td>0</td>\n",
       "      <td>...</td>\n",
       "      <td>0</td>\n",
       "      <td>0</td>\n",
       "      <td>0</td>\n",
       "      <td>0</td>\n",
       "      <td>0</td>\n",
       "      <td>0</td>\n",
       "      <td>0</td>\n",
       "      <td>0</td>\n",
       "      <td>1</td>\n",
       "      <td>0</td>\n",
       "    </tr>\n",
       "    <tr>\n",
       "      <th>2</th>\n",
       "      <td>4</td>\n",
       "      <td>0</td>\n",
       "      <td>0</td>\n",
       "      <td>3</td>\n",
       "      <td>0</td>\n",
       "      <td>0</td>\n",
       "      <td>0</td>\n",
       "      <td>0</td>\n",
       "      <td>0</td>\n",
       "      <td>0</td>\n",
       "      <td>...</td>\n",
       "      <td>0</td>\n",
       "      <td>0</td>\n",
       "      <td>0</td>\n",
       "      <td>0</td>\n",
       "      <td>0</td>\n",
       "      <td>0</td>\n",
       "      <td>0</td>\n",
       "      <td>0</td>\n",
       "      <td>0</td>\n",
       "      <td>0</td>\n",
       "    </tr>\n",
       "    <tr>\n",
       "      <th>3</th>\n",
       "      <td>3</td>\n",
       "      <td>0</td>\n",
       "      <td>0</td>\n",
       "      <td>3</td>\n",
       "      <td>0</td>\n",
       "      <td>0</td>\n",
       "      <td>0</td>\n",
       "      <td>0</td>\n",
       "      <td>0</td>\n",
       "      <td>1</td>\n",
       "      <td>...</td>\n",
       "      <td>0</td>\n",
       "      <td>0</td>\n",
       "      <td>0</td>\n",
       "      <td>0</td>\n",
       "      <td>0</td>\n",
       "      <td>0</td>\n",
       "      <td>0</td>\n",
       "      <td>0</td>\n",
       "      <td>0</td>\n",
       "      <td>0</td>\n",
       "    </tr>\n",
       "    <tr>\n",
       "      <th>4</th>\n",
       "      <td>2</td>\n",
       "      <td>0</td>\n",
       "      <td>0</td>\n",
       "      <td>2</td>\n",
       "      <td>0</td>\n",
       "      <td>1</td>\n",
       "      <td>0</td>\n",
       "      <td>0</td>\n",
       "      <td>0</td>\n",
       "      <td>0</td>\n",
       "      <td>...</td>\n",
       "      <td>0</td>\n",
       "      <td>0</td>\n",
       "      <td>0</td>\n",
       "      <td>0</td>\n",
       "      <td>0</td>\n",
       "      <td>0</td>\n",
       "      <td>0</td>\n",
       "      <td>0</td>\n",
       "      <td>1</td>\n",
       "      <td>0</td>\n",
       "    </tr>\n",
       "  </tbody>\n",
       "</table>\n",
       "<p>5 rows × 42 columns</p>\n",
       "</div>"
      ],
      "text/plain": [
       "   PERSONCOUNT  PEDCOUNT  PEDCYLCOUNT  VEHCOUNT  ADDRTYPE_Alley  \\\n",
       "0            2         0            0         2               0   \n",
       "1            2         0            0         2               0   \n",
       "2            4         0            0         3               0   \n",
       "3            3         0            0         3               0   \n",
       "4            2         0            0         2               0   \n",
       "\n",
       "   ADDRTYPE_Intersection  COLLISIONTYPE_Cycles  COLLISIONTYPE_Head On  \\\n",
       "0                      1                     0                      0   \n",
       "1                      0                     0                      0   \n",
       "2                      0                     0                      0   \n",
       "3                      0                     0                      0   \n",
       "4                      1                     0                      0   \n",
       "\n",
       "   COLLISIONTYPE_Left Turn  COLLISIONTYPE_Other  ...  \\\n",
       "0                        0                    0  ...   \n",
       "1                        0                    0  ...   \n",
       "2                        0                    0  ...   \n",
       "3                        0                    1  ...   \n",
       "4                        0                    0  ...   \n",
       "\n",
       "   WEATHER_Sleet/Hail/Freezing Rain  WEATHER_Snowing  ROADCOND_Ice  \\\n",
       "0                                 0                0             0   \n",
       "1                                 0                0             0   \n",
       "2                                 0                0             0   \n",
       "3                                 0                0             0   \n",
       "4                                 0                0             0   \n",
       "\n",
       "   ROADCOND_Oil  ROADCOND_Other  ROADCOND_Sand/Mud/Dirt  ROADCOND_Snow/Slush  \\\n",
       "0             0               0                       0                    0   \n",
       "1             0               0                       0                    0   \n",
       "2             0               0                       0                    0   \n",
       "3             0               0                       0                    0   \n",
       "4             0               0                       0                    0   \n",
       "\n",
       "   ROADCOND_Standing Water  ROADCOND_Wet  UNDERINFL  \n",
       "0                        0             1          0  \n",
       "1                        0             1          0  \n",
       "2                        0             0          0  \n",
       "3                        0             0          0  \n",
       "4                        0             1          0  \n",
       "\n",
       "[5 rows x 42 columns]"
      ]
     },
     "execution_count": 14,
     "metadata": {},
     "output_type": "execute_result"
    }
   ],
   "source": [
    "X = Features[['PERSONCOUNT', 'PEDCOUNT', 'PEDCYLCOUNT', 'VEHCOUNT']]\n",
    "X = pd.concat([X, pd.get_dummies(Features[['ADDRTYPE', 'COLLISIONTYPE', 'PERIOD', 'JUNCTIONTYPE', 'STRIKER', 'WEATHER', 'ROADCOND']]), Features.UNDERINFL.astype(int)], axis = 1)\n",
    "X.drop(['ADDRTYPE_Block', 'COLLISIONTYPE_Angles', 'PERIOD_12noon to 6pm', 'JUNCTIONTYPE_Mid-Block (not related to intersection)', 'STRIKER_Driven vehicle', 'WEATHER_Clear', 'ROADCOND_Dry'], axis = 1, inplace = True)\n",
    "X.head()"
   ]
  },
  {
   "cell_type": "code",
   "execution_count": 15,
   "metadata": {},
   "outputs": [],
   "source": [
    "y = data['SEVERITYCODE']"
   ]
  },
  {
   "cell_type": "markdown",
   "metadata": {},
   "source": [
    "## Train test split for machine learning"
   ]
  },
  {
   "cell_type": "code",
   "execution_count": 16,
   "metadata": {},
   "outputs": [],
   "source": [
    "from sklearn.model_selection import train_test_split\n",
    "from sklearn.metrics import jaccard_similarity_score\n",
    "from sklearn.metrics import f1_score\n",
    "from sklearn.metrics import confusion_matrix"
   ]
  },
  {
   "cell_type": "code",
   "execution_count": 17,
   "metadata": {},
   "outputs": [],
   "source": [
    "X_train, X_validation_test, y_train, y_validation_test = train_test_split(X, y, test_size=0.3, random_state=4)"
   ]
  },
  {
   "cell_type": "code",
   "execution_count": 18,
   "metadata": {},
   "outputs": [],
   "source": [
    "X_validation, X_test, y_validation, y_test = train_test_split(X_validation_test, y_validation_test, test_size=0.5, random_state=4)"
   ]
  },
  {
   "cell_type": "code",
   "execution_count": 19,
   "metadata": {
    "scrolled": false
   },
   "outputs": [
    {
     "name": "stdout",
     "output_type": "stream",
     "text": [
      "(102120, 42) (21883, 42) (21883, 42)\n"
     ]
    }
   ],
   "source": [
    "print(X_train.shape, X_validation.shape, X_test.shape)"
   ]
  },
  {
   "cell_type": "markdown",
   "metadata": {},
   "source": [
    "### Checking that distribution is similar amongst train, validation and test sets"
   ]
  },
  {
   "cell_type": "code",
   "execution_count": 39,
   "metadata": {},
   "outputs": [
    {
     "data": {
      "image/png": "[encoded data removed]",
      "text/plain": [
       "<Figure size 432x288 with 3 Axes>"
      ]
     },
     "metadata": {
      "needs_background": "light"
     },
     "output_type": "display_data"
    }
   ],
   "source": [
    "fig, ax = plt.subplots(1,3, tight_layout=True)\n",
    "ax[0].hist(y_train)\n",
    "ax[0].set_xlim(['1', '2'])\n",
    "ax[0].set_title('train set')\n",
    "ax[0].set_ylabel('Number of accidents')\n",
    "ax[1].hist(y_validation)\n",
    "ax[1].set_title('validation set')\n",
    "ax[1].set_xlabel('Severity')\n",
    "ax[2].hist(y_test)\n",
    "ax[2].set_title('test set')\n",
    "plt.savefig('train_validation_test_splits.png')\n",
    "plt.show()"
   ]
  },
  {
   "cell_type": "markdown",
   "metadata": {},
   "source": [
    "## Scaling features"
   ]
  },
  {
   "cell_type": "code",
   "execution_count": 21,
   "metadata": {},
   "outputs": [],
   "source": [
    "from sklearn import preprocessing\n",
    "X_train_scaled = preprocessing.StandardScaler().fit(X_train).transform(X_train)\n",
    "X_validation_scaled = preprocessing.StandardScaler().fit(X_train).transform(X_validation)"
   ]
  },
  {
   "cell_type": "markdown",
   "metadata": {},
   "source": [
    "## Support Vector Machine"
   ]
  },
  {
   "cell_type": "code",
   "execution_count": 22,
   "metadata": {},
   "outputs": [],
   "source": [
    "from sklearn import svm"
   ]
  },
  {
   "cell_type": "code",
   "execution_count": 23,
   "metadata": {},
   "outputs": [],
   "source": [
    "df_scores = pd.DataFrame({'C': [0.001, 0.01, 0.05, 0.10] + list(np.arange(0.20, 1.10, step=0.10)), 'jaccard index': float(0), 'f1 score': float(0)})"
   ]
  },
  {
   "cell_type": "code",
   "execution_count": 24,
   "metadata": {},
   "outputs": [
    {
     "name": "stdout",
     "output_type": "stream",
     "text": [
      "        C  jaccard index  f1 score\n",
      "0   0.001       0.727734  0.680328\n",
      "1   0.010       0.727871  0.680506\n",
      "2   0.050       0.727871  0.680506\n",
      "3   0.100       0.727825  0.680470\n",
      "4   0.200       0.727780  0.680399\n",
      "5   0.300       0.727780  0.680399\n",
      "6   0.400       0.727780  0.680399\n",
      "7   0.500       0.727780  0.680399\n",
      "8   0.600       0.727780  0.680399\n",
      "9   0.700       0.727780  0.680399\n",
      "10  0.800       0.727780  0.680399\n",
      "11  0.900       0.727780  0.680399\n",
      "12  1.000       0.727780  0.680399\n",
      "Based on F1 Score, the best value for C is 0.01 with a F1 Score of 0.680506379515327\n"
     ]
    }
   ],
   "source": [
    "for index in df_scores.index:\n",
    "    SVM = svm.LinearSVC(C=df_scores.C[index], dual=False)\n",
    "    SVM.fit(X_train_scaled, y_train)\n",
    "    yhat = SVM.predict(X_validation_scaled)\n",
    "    df_scores['jaccard index'][index] = jaccard_similarity_score(y_validation, yhat)\n",
    "    df_scores['f1 score'][index] = f1_score(y_validation, yhat, average='weighted')\n",
    "\n",
    "C1 = df_scores.C[df_scores['f1 score'] == df_scores['f1 score'].max()].values[0]\n",
    "\n",
    "print(df_scores)\n",
    "print('Based on F1 Score, the best value for C is', C1, 'with a F1 Score of', df_scores['f1 score'].max())"
   ]
  },
  {
   "cell_type": "markdown",
   "metadata": {},
   "source": [
    "## Logistic Regression"
   ]
  },
  {
   "cell_type": "code",
   "execution_count": 25,
   "metadata": {},
   "outputs": [],
   "source": [
    "from sklearn.linear_model import LogisticRegression"
   ]
  },
  {
   "cell_type": "code",
   "execution_count": 26,
   "metadata": {},
   "outputs": [],
   "source": [
    "df_scores = pd.DataFrame({'C': [0.01, 0.05, 0.10] + list(np.arange(0.20, 1.10, step=0.10)), 'jaccard index': float(0), 'f1 score': float(0)})"
   ]
  },
  {
   "cell_type": "code",
   "execution_count": 27,
   "metadata": {},
   "outputs": [
    {
     "name": "stdout",
     "output_type": "stream",
     "text": [
      "       C  jaccard index  f1 score\n",
      "0   0.01       0.727414  0.686451\n",
      "1   0.05       0.727962  0.687082\n",
      "2   0.10       0.728008  0.687181\n",
      "3   0.20       0.728008  0.687181\n",
      "4   0.30       0.728008  0.687181\n",
      "5   0.40       0.728008  0.687181\n",
      "6   0.50       0.727962  0.687144\n",
      "7   0.60       0.727962  0.687144\n",
      "8   0.70       0.727962  0.687144\n",
      "9   0.80       0.727962  0.687144\n",
      "10  0.90       0.727962  0.687144\n",
      "11  1.00       0.727962  0.687144\n",
      "Based on F1 Score, the best value for C is 0.1 with a F1 Score of 0.6871809615548027\n"
     ]
    }
   ],
   "source": [
    "for index, value in enumerate(df_scores.C):\n",
    "    LR = LogisticRegression(C = value, solver='liblinear').fit(X_train_scaled,y_train)\n",
    "    yhat = LR.predict(X_validation_scaled)\n",
    "    df_scores['jaccard index'][index] = jaccard_similarity_score(y_validation, yhat)\n",
    "    df_scores['f1 score'][index] = f1_score(y_validation, yhat, average='weighted')\n",
    "\n",
    "C2 = df_scores.C[df_scores['f1 score'] == df_scores['f1 score'].max()].values[0]\n",
    "print(df_scores)\n",
    "print('Based on F1 Score, the best value for C is', C2, 'with a F1 Score of', df_scores['f1 score'].max())"
   ]
  },
  {
   "cell_type": "markdown",
   "metadata": {},
   "source": [
    "## Random Forest"
   ]
  },
  {
   "cell_type": "code",
   "execution_count": 28,
   "metadata": {},
   "outputs": [],
   "source": [
    "from sklearn.ensemble import RandomForestClassifier"
   ]
  },
  {
   "cell_type": "code",
   "execution_count": 29,
   "metadata": {},
   "outputs": [],
   "source": [
    "df_scores = pd.DataFrame({'min_samples_leaf': list(np.arange(1, 11, step=1)), 'jaccard index': float(0), 'f1 score': float(0)})"
   ]
  },
  {
   "cell_type": "code",
   "execution_count": 30,
   "metadata": {},
   "outputs": [
    {
     "name": "stdout",
     "output_type": "stream",
     "text": [
      "   min_samples_leaf  jaccard index  f1 score\n",
      "0                 1       0.720285  0.691797\n",
      "1                 2       0.728831  0.691710\n",
      "2                 3       0.729333  0.689997\n",
      "3                 4       0.729562  0.687947\n",
      "4                 5       0.730841  0.688168\n",
      "5                 6       0.730476  0.688596\n",
      "6                 7       0.731115  0.688168\n",
      "7                 8       0.730430  0.685807\n",
      "8                 9       0.729973  0.686603\n",
      "9                10       0.729516  0.685783\n",
      "Based on F1 Score, the best value for min_samples_leaf is 1 with a F1 Score of 0.6917972510881176\n"
     ]
    }
   ],
   "source": [
    "for index, value in enumerate(df_scores.min_samples_leaf):\n",
    "    RFC = RandomForestClassifier(min_samples_leaf = value)\n",
    "    RFC.fit(X_train_scaled, y_train)\n",
    "    yhat = RFC.predict(X_validation_scaled)\n",
    "    df_scores['jaccard index'][index] = jaccard_similarity_score(y_validation, yhat)\n",
    "    df_scores['f1 score'][index] = f1_score(y_validation, yhat, average='weighted')\n",
    "\n",
    "N = df_scores.min_samples_leaf[df_scores['f1 score'] == df_scores['f1 score'].max()].values[0]\n",
    "print(df_scores)\n",
    "print('Based on F1 Score, the best value for min_samples_leaf is', N, 'with a F1 Score of', df_scores['f1 score'].max())"
   ]
  },
  {
   "cell_type": "markdown",
   "metadata": {},
   "source": [
    "## Evaluating on test set"
   ]
  },
  {
   "cell_type": "code",
   "execution_count": 31,
   "metadata": {},
   "outputs": [
    {
     "data": {
      "text/plain": [
       "(124003, 42)"
      ]
     },
     "execution_count": 31,
     "metadata": {},
     "output_type": "execute_result"
    }
   ],
   "source": [
    "X_finaltrain = pd.concat([X_train, X_validation])"
   ]
  },
  {
   "cell_type": "code",
   "execution_count": 32,
   "metadata": {},
   "outputs": [
    {
     "data": {
      "text/plain": [
       "124003"
      ]
     },
     "execution_count": 32,
     "metadata": {},
     "output_type": "execute_result"
    }
   ],
   "source": [
    "y_finaltrain = pd.concat([y_train, y_validation])"
   ]
  },
  {
   "cell_type": "code",
   "execution_count": 33,
   "metadata": {},
   "outputs": [],
   "source": [
    "X_test_scaled = preprocessing.StandardScaler().fit(X_finaltrain).transform(X_test)\n",
    "X_finaltrain_scaled = preprocessing.StandardScaler().fit(X_finaltrain).transform(X_finaltrain)"
   ]
  },
  {
   "cell_type": "code",
   "execution_count": 34,
   "metadata": {},
   "outputs": [
    {
     "name": "stdout",
     "output_type": "stream",
     "text": [
      "Jaccard index for Support Vector Classifier is 0.7334003564410729\n",
      "F1 score for Support Vector Classifier is 0.6867632038709867\n"
     ]
    }
   ],
   "source": [
    "SVM = svm.LinearSVC(C = C1, dual=False).fit(X_finaltrain_scaled,y_finaltrain)\n",
    "yhat = SVM.predict(X_test_scaled)\n",
    "print('F1 score for Support Vector Classifier is', f1_score(y_test, yhat, average='weighted'))"
   ]
  },
  {
   "cell_type": "code",
   "execution_count": 35,
   "metadata": {
    "scrolled": true
   },
   "outputs": [
    {
     "name": "stdout",
     "output_type": "stream",
     "text": [
      "Jaccard index for Logistic Regression is 0.7331261710003198\n",
      "F1 score for Logistic Regression is 0.6943347699966038\n"
     ]
    }
   ],
   "source": [
    "LR = LogisticRegression(C = C2, solver='liblinear').fit(X_finaltrain_scaled,y_finaltrain)\n",
    "yhat = LR.predict(X_test_scaled)\n",
    "print('F1 score for Logistic Regression is', f1_score(y_test, yhat, average='weighted'))"
   ]
  },
  {
   "cell_type": "code",
   "execution_count": 36,
   "metadata": {},
   "outputs": [
    {
     "name": "stdout",
     "output_type": "stream",
     "text": [
      "Jaccard index for Random Forest Classifier is 0.7256774665265274\n",
      "F1 score for Random Forest Classifier is 0.6955057296244938\n"
     ]
    }
   ],
   "source": [
    "RFC = RandomForestClassifier(min_samples_leaf = N).fit(X_finaltrain_scaled,y_finaltrain)\n",
    "yhat = RFC.predict(X_test_scaled)\n",
    "print('F1 score for Random Forest Classifier is', f1_score(y_test, yhat, average='weighted'))"
   ]
  },
  {
   "cell_type": "code",
   "execution_count": 41,
   "metadata": {},
   "outputs": [
    {
     "name": "stdout",
     "output_type": "stream",
     "text": [
      "Simply predicting SEVERITYCODE = 1 for all accidents in the test set would yield an F1 score of 0.5405024197073691\n"
     ]
    }
   ],
   "source": [
    "print('Simply predicting SEVERITYCODE = 1 for all accidents in the test set would yield an F1 score of', f1_score(y_test, ['1'] * len(y_test), average='weighted'))"
   ]
  }
 ],
 "metadata": {
  "kernelspec": {
   "display_name": "Python 3",
   "language": "python",
   "name": "python3"
  },
  "language_info": {
   "codemirror_mode": {
    "name": "ipython",
    "version": 3
   },
   "file_extension": ".py",
   "mimetype": "text/x-python",
   "name": "python",
   "nbconvert_exporter": "python",
   "pygments_lexer": "ipython3",
   "version": "3.7.6"
  }
 },
 "nbformat": 4,
 "nbformat_minor": 4
}
